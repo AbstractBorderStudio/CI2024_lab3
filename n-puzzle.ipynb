{
 "cells": [
  {
   "cell_type": "markdown",
   "metadata": {},
   "source": [
    "Game https://en.wikipedia.org/wiki/15_puzzle"
   ]
  },
  {
   "cell_type": "markdown",
   "metadata": {},
   "source": [
    "Objective\n",
    "- Solve efficiently usign path search\n",
    "\n",
    "Cost\n",
    "- the total number of actions eval"
   ]
  },
  {
   "cell_type": "code",
   "execution_count": 7,
   "metadata": {},
   "outputs": [],
   "source": [
    "import numpy as np\n",
    "import random\n",
    "from tqdm.auto import tqdm\n",
    "import math\n",
    "from dataclasses import dataclass"
   ]
  },
  {
   "cell_type": "code",
   "execution_count": 8,
   "metadata": {},
   "outputs": [
    {
     "name": "stdout",
     "output_type": "stream",
     "text": [
      "SOLUTION: [1, 2, 3, 4, 5, 6, 7, 8, 0]\n",
      "PUZZLE: [1, 2, 3, 4, 5, 6, 7, 8, 0]\n"
     ]
    }
   ],
   "source": [
    "# Settings\n",
    "PROBLEM_SIZE = 3\n",
    "PUZZLE_SQUARES = pow(PROBLEM_SIZE, 2)\n",
    "SOLUTION = [(n + 1) % PUZZLE_SQUARES for n in range(PUZZLE_SQUARES)]\n",
    "PUZZLE = SOLUTION[:]\n",
    "print(f\"SOLUTION: {SOLUTION}\")\n",
    "print(f\"PUZZLE: {PUZZLE}\")"
   ]
  },
  {
   "cell_type": "code",
   "execution_count": 9,
   "metadata": {},
   "outputs": [
    {
     "name": "stdout",
     "output_type": "stream",
     "text": [
      "[1, 2, 3]\n",
      "[4, 5, 6]\n",
      "[7, 8, 0]\n"
     ]
    }
   ],
   "source": [
    "def _print_board(board : list):\n",
    "    \"\"\"\n",
    "    Simple board printer.\n",
    "    Taks a list and print it like a matrix.\n",
    "    \"\"\"\n",
    "    for i in range(PROBLEM_SIZE):\n",
    "        a = []\n",
    "        for j in range(PROBLEM_SIZE):\n",
    "            a.append(board[i*PROBLEM_SIZE+j])\n",
    "        print(a)\n",
    "_print_board(SOLUTION)"
   ]
  },
  {
   "cell_type": "markdown",
   "metadata": {},
   "source": [
    "# Classes"
   ]
  },
  {
   "cell_type": "code",
   "execution_count": 10,
   "metadata": {},
   "outputs": [],
   "source": [
    "@dataclass\n",
    "class Action:\n",
    "    board : np.ndarray # | Current board\n",
    "    distance : int = 0 # | heuristic distance between the node and the solution\n",
    "    depth : int = 0    # | tree's depth"
   ]
  },
  {
   "cell_type": "markdown",
   "metadata": {},
   "source": [
    "# Utility functions"
   ]
  },
  {
   "cell_type": "code",
   "execution_count": 11,
   "metadata": {},
   "outputs": [
    {
     "name": "stdout",
     "output_type": "stream",
     "text": [
      "INITIAL PUZZLE: [1, 2, 3, 4, 5, 6, 7, 8, 0]\n",
      "SHUFFELED PUZZLE: [1, 2, 0, 7, 4, 3, 5, 8, 6]\n"
     ]
    }
   ],
   "source": [
    "def _get_row(index) -> int:\n",
    "    \"\"\"\n",
    "    Gets the matrix row from the list index.\n",
    "    \"\"\"\n",
    "    return math.floor(index / PROBLEM_SIZE)\n",
    "\n",
    "def _get_col(index) -> int:\n",
    "    \"\"\"\n",
    "    Gets the matrix col from the list index.\n",
    "    \"\"\"\n",
    "    return index - _get_row(index) * PROBLEM_SIZE\n",
    "\n",
    "def _get_index(row, col) -> int:\n",
    "    \"\"\"\n",
    "    Get matrix coordinate and return the list index.\n",
    "    \"\"\"\n",
    "    return row * PROBLEM_SIZE + col\n",
    "\n",
    "def _get_empty_cell(board):\n",
    "    for n in range(PUZZLE_SQUARES):\n",
    "        if board[n] == 0:\n",
    "            return n\n",
    "\n",
    "def _swap(a, b, board):\n",
    "    \"\"\"\n",
    "    Swap 2 list elements taken their indices.\n",
    "    \"\"\"\n",
    "    tmp = board[a]\n",
    "    board[a] = board[b]\n",
    "    board[b] = tmp\n",
    "\n",
    "def _cost(board):\n",
    "    \"\"\"\n",
    "    Compute the cost of the current array as the distance from the GOAL.\n",
    "    \"\"\"\n",
    "    cost = 0\n",
    "    for i in range(PUZZLE_SQUARES):\n",
    "        if board[i] != 0:\n",
    "            if i < board[i]:\n",
    "                cost += board[i] - (i+1)\n",
    "            else:\n",
    "                cost += (i+1) - board[i]\n",
    "        # else:\n",
    "        #     cost += PUZZLE_SQUARES - (i+1)\n",
    "    return cost\n",
    "\n",
    "def _evaluate_actions(action):\n",
    "    \"\"\"\n",
    "    Return all the possibile avaible actions for the current states.\n",
    "    \"\"\"\n",
    "    # get coordinate\n",
    "    index = _get_empty_cell(action.board)\n",
    "    x, y = _get_row(index), _get_col(index)\n",
    "    actions = list()\n",
    "\n",
    "    # move up\n",
    "    if x > 0:\n",
    "        up = Action(action.board[:], depth=action.depth + 1) \n",
    "        _swap(index, _get_index(x-1, y), up.board)\n",
    "        up.distance = _cost(up.board)\n",
    "        actions.append(up)\n",
    "    # move right\n",
    "    if y < PROBLEM_SIZE - 1:\n",
    "        right = Action(action.board[:], depth=action.depth + 1) \n",
    "        _swap(index, _get_index(x, y+1), right.board)\n",
    "        right.distance = _cost(right.board)\n",
    "        actions.append(right)\n",
    "    # move down \n",
    "    if x < PROBLEM_SIZE - 1:\n",
    "        down = Action(action.board[:], depth=action.depth + 1) \n",
    "        _swap(index, _get_index(x+1, y), down.board)\n",
    "        down.distance = _cost(down.board)\n",
    "        actions.append(down)\n",
    "    # move left\n",
    "    if y > 0:\n",
    "        left = Action(action.board[:], depth=action.depth + 1) \n",
    "        _swap(index, _get_index(x, y-1), left.board)\n",
    "        left.distance = _cost(left.board)\n",
    "        actions.append(left)\n",
    "    return actions\n",
    "\n",
    "def _shuffle(action, moves):\n",
    "    shuffled_action = action\n",
    "    for i in range(moves):\n",
    "        new_actions = _evaluate_actions(shuffled_action)\n",
    "        random.shuffle(new_actions)\n",
    "        shuffled_action = new_actions.pop()\n",
    "    return shuffled_action\n",
    "\n",
    "shuffled = Action(PUZZLE)\n",
    "shuffled = _shuffle(shuffled, pow(PROBLEM_SIZE, 2)*(PROBLEM_SIZE-1))\n",
    "shuffled.depth = 0\n",
    "print(f\"INITIAL PUZZLE: {PUZZLE}\")\n",
    "print(f\"SHUFFELED PUZZLE: {shuffled.board}\")"
   ]
  },
  {
   "cell_type": "code",
   "execution_count": 12,
   "metadata": {},
   "outputs": [
    {
     "name": "stdout",
     "output_type": "stream",
     "text": [
      "\n",
      " === INITIAL STATE === \n",
      "\n",
      "[1, 2, 0]\n",
      "[7, 4, 3]\n",
      "[5, 8, 6]\n",
      "\n",
      " === SOLUTION === \n",
      "\n",
      "steps: 11\n",
      "distance: 0\n",
      "depth: 8\n",
      "[1, 2, 3]\n",
      "[4, 5, 6]\n",
      "[7, 8, 0]\n"
     ]
    }
   ],
   "source": [
    "def _search(starting_action):\n",
    "    fronteer = list()\n",
    "    visited = list()\n",
    "    current_state = starting_action\n",
    "    total_cost = 0\n",
    "    while not np.array_equal(current_state.board, SOLUTION):\n",
    "        visited.append(current_state)\n",
    "        for a in _evaluate_actions(current_state):\n",
    "            in_fronteer = False\n",
    "            for b in fronteer:\n",
    "                if np.array_equal(a.board, b.board) and a.depth < b.depth:\n",
    "                    b.depth = a.depth\n",
    "                    in_fronteer = True\n",
    "                    break\n",
    "            if not in_fronteer and a not in visited:\n",
    "                fronteer.append(a)\n",
    "        fronteer.sort(key = lambda x : -(x.distance + x.depth))\n",
    "        current_state = fronteer.pop()\n",
    "        total_cost += 1\n",
    "    return current_state, total_cost\n",
    "\n",
    "print(\"\\n === INITIAL STATE === \\n\")\n",
    "_print_board(shuffled.board)\n",
    "sol = _search(shuffled)\n",
    "print(\"\\n === SOLUTION === \\n\")\n",
    "print(f\"steps: {sol[1]}\")\n",
    "print(f\"distance: {sol[0].distance}\")\n",
    "print(f\"depth: {sol[0].depth}\")\n",
    "_print_board(sol[0].board)"
   ]
  }
 ],
 "metadata": {
  "kernelspec": {
   "display_name": ".venv",
   "language": "python",
   "name": "python3"
  },
  "language_info": {
   "codemirror_mode": {
    "name": "ipython",
    "version": 3
   },
   "file_extension": ".py",
   "mimetype": "text/x-python",
   "name": "python",
   "nbconvert_exporter": "python",
   "pygments_lexer": "ipython3",
   "version": "3.12.7"
  }
 },
 "nbformat": 4,
 "nbformat_minor": 2
}
